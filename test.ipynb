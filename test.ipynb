{
 "cells": [
  {
   "cell_type": "code",
   "execution_count": 8,
   "metadata": {},
   "outputs": [
    {
     "name": "stdout",
     "output_type": "stream",
     "text": [
      "2024-06-08\n"
     ]
    }
   ],
   "source": [
    "import datetime\n",
    "\n",
    "print(datetime.datetime.today().strftime(\"%Y-%m-%d\"))"
   ]
  },
  {
   "cell_type": "code",
   "execution_count": 14,
   "metadata": {},
   "outputs": [
    {
     "name": "stdout",
     "output_type": "stream",
     "text": [
      "re.compile('사.*페')\n",
      "검색어 '사페'에 대한 검색 결과: True\n",
      "re.compile('사.*이.*먼.*페.*그.*톰')\n",
      "검색어 '사 이먼 페그톰'에 대한 검색 결과: False\n",
      "re.compile('사.*페.*그')\n",
      "검색어 '사페그'에 대한 검색 결과: True\n"
     ]
    }
   ],
   "source": [
    "import re\n",
    "\n",
    "names = [\n",
    "    \"사이먼 페그\",\n",
    "    \"앤디 서키스\",\n",
    "    \"아일라 피셔\",\n",
    "    \"Georgia King\",\n",
    "    \"톰 윌킨슨\",\n",
    "    \"팀 커리\",\n",
    "    \"크리스토퍼 리\",\n",
    "    \"Jessica Hynes\",\n",
    "    \"Bill Bailey\",\n",
    "    \"스티븐 머천트\",\n",
    "    \"휴 보네빌\",\n",
    "    \"David Schofield\",\n",
    "]\n",
    "\n",
    "# 검색할 이름을 정의합니다. 여기서 공백을 포함하지 않은 형태로 검색어를 만듭니다.\n",
    "search_names = [\"사페\", \"사 이먼 페그톰\", \"사페그\"]\n",
    "\n",
    "\n",
    "def search_name_in_list(search_name, name_list):\n",
    "    # 검색어의 각 글자를 포함하는 정규식을 만듭니다.\n",
    "    pattern = re.compile(\".*\".join(re.escape(char) for char in search_name))\n",
    "    print(pattern)\n",
    "    # 리스트에서 검색합니다.\n",
    "    matches = [name for name in name_list if pattern.search(name.replace(\" \", \"\"))]\n",
    "    if matches:\n",
    "        return True\n",
    "    else: return False\n",
    "\n",
    "\n",
    "# 각 검색어에 대해 검색합니다.\n",
    "for search_name in search_names:\n",
    "    results = search_name_in_list(search_name.replace(\" \",\"\"), names)\n",
    "    print(f\"검색어 '{search_name}'에 대한 검색 결과:\", results)"
   ]
  },
  {
   "cell_type": "code",
   "execution_count": 16,
   "metadata": {},
   "outputs": [
    {
     "name": "stdout",
     "output_type": "stream",
     "text": [
      "'example' 변환된 문자열과 일치하는 항목: []\n",
      "'test' 변환된 문자열과 일치하는 항목: ['testtest']\n",
      "'sample' 변환된 문자열과 일치하는 항목: ['samplesample']\n"
     ]
    }
   ],
   "source": [
    "import re\n",
    "\n",
    "# 원래 문자열 리스트\n",
    "original_list = [\"example\", \"test\", \"sample\"]\n",
    "\n",
    "\n",
    "# 정규식 패턴 생성 함수\n",
    "def create_pattern(s):\n",
    "    # 각 문자 뒤에 +를 붙이고 마지막에는 추가하지 않음\n",
    "    pattern = \"\".join(f\"{char}+\" for char in s)\n",
    "    return re.compile(pattern)\n",
    "\n",
    "\n",
    "# 테스트할 문자열 리스트\n",
    "test_list = [\"exampleexample\", \"testtest\", \"samplesample\", \"something else\"]\n",
    "\n",
    "\n",
    "# 검색 함수\n",
    "def search_in_list(original_list, test_list):\n",
    "    results = {}\n",
    "    for original in original_list:\n",
    "        pattern = create_pattern(original)\n",
    "        matches = [test for test in test_list if pattern.search(test)]\n",
    "        results[original] = matches\n",
    "    return results\n",
    "\n",
    "\n",
    "# 결과 확인\n",
    "results = search_in_list(original_list, test_list)\n",
    "\n",
    "for original, matches in results.items():\n",
    "    print(f\"'{original}' 변환된 문자열과 일치하는 항목: {matches}\")"
   ]
  },
  {
   "cell_type": "code",
   "execution_count": 4,
   "metadata": {},
   "outputs": [
    {
     "name": "stdout",
     "output_type": "stream",
     "text": [
      "'로다주' 키워드가 포함된 배우를 목록에서 찾지 못했습니다.\n",
      "'크리스에반스' 키워드가 포함된 배우를 목록에서 찾았습니다: 크리스 에반스\n"
     ]
    }
   ],
   "source": [
    "import re\n",
    "\n",
    "# 어벤져스 출연 배우 목록 (한글)\n",
    "actors = \"로버트 다우니 주니어, 크리스 에반스, 마크 러팔로, 크리스 헴스워스, 스칼렛 요한슨, 제레미 레너, 톰 히들스턴, 크리스 프랫, 조 샐다나, 데이브 바티스타, 브래들리 쿠퍼, 빈 디젤\"\n",
    "\n",
    "# 검색할 키워드 (별명 또는 이름의 일부)\n",
    "search_keywords = [\"로다주\", \"크리스에반스\"]\n",
    "\n",
    "# 정규식을 사용하여 각 배우 이름을 쉼표로 분리\n",
    "actor_list = re.split(r\"\\s*,\\s*\", actors)\n",
    "\n",
    "# 각 키워드에 대해 배우 이름을 검색\n",
    "for search_keyword in search_keywords:\n",
    "    # 검색 키워드가 배우 이름에 포함되어 있는지 확인\n",
    "    matching_actors = [\n",
    "        actor\n",
    "        for actor in actor_list\n",
    "        if re.search(re.escape(search_keyword), actor.replace(\" \", \"\"))\n",
    "    ]\n",
    "\n",
    "    if matching_actors:\n",
    "        print(\n",
    "            f\"'{search_keyword}' 키워드가 포함된 배우를 목록에서 찾았습니다: {', '.join(matching_actors)}\"\n",
    "        )\n",
    "    else:\n",
    "        print(f\"'{search_keyword}' 키워드가 포함된 배우를 목록에서 찾지 못했습니다.\")"
   ]
  },
  {
   "cell_type": "code",
   "execution_count": null,
   "metadata": {},
   "outputs": [],
   "source": []
  }
 ],
 "metadata": {
  "kernelspec": {
   "display_name": "Python 3",
   "language": "python",
   "name": "python3"
  },
  "language_info": {
   "codemirror_mode": {
    "name": "ipython",
    "version": 3
   },
   "file_extension": ".py",
   "mimetype": "text/x-python",
   "name": "python",
   "nbconvert_exporter": "python",
   "pygments_lexer": "ipython3",
   "version": "3.11.9"
  }
 },
 "nbformat": 4,
 "nbformat_minor": 2
}
